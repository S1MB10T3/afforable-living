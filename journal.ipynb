{
 "cells": [
  {
   "cell_type": "markdown",
   "metadata": {},
   "source": [
    "# Mon, Jun 22\n",
    "\n",
    "Forgot to save changes before PC reset :'(\n",
    "Lost code/progress on project that hasn't been pushed to github/gitlabs.\n",
    "\n",
    "Basic framework for census data retrival using api.census.gov has been made.\n",
    "\n",
    "## ToDo\n",
    "- [ ] Redownload data from streeteasy, aparments.com, and zillow or build a scrapper.\n",
    "- [ ] Either have a list of zip codes or have a prompt for a zip code\n",
    "- [ ] Use environment variables to prevent keys from getting out\n"
   ]
  },
  {
   "cell_type": "code",
   "execution_count": null,
   "metadata": {},
   "outputs": [],
   "source": []
  }
 ],
 "metadata": {
  "kernelspec": {
   "display_name": "Python 3",
   "language": "python",
   "name": "python3"
  },
  "language_info": {
   "codemirror_mode": {
    "name": "ipython",
    "version": 3
   },
   "file_extension": ".py",
   "mimetype": "text/x-python",
   "name": "python",
   "nbconvert_exporter": "python",
   "pygments_lexer": "ipython3",
   "version": "3.8.3"
  }
 },
 "nbformat": 4,
 "nbformat_minor": 2
}
